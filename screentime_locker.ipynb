{
 "cells": [
  {
   "cell_type": "code",
   "execution_count": null,
   "id": "90418fb4",
   "metadata": {},
   "outputs": [],
   "source": [
    "import os\n",
    "import imageio\n",
    "import pandas as pd\n",
    "import numpy as np\n",
    "import matplotlib.pyplot as plt\n",
    "import seaborn as sns\n",
    "from tqdm.notebook import tqdm\n",
    "from glob import glob\n",
    "from skimage import color"
   ]
  },
  {
   "cell_type": "code",
   "execution_count": null,
   "id": "fe21b121",
   "metadata": {},
   "outputs": [],
   "source": [
    "sns.set_style('darkgrid')\n",
    "sns.set_context('poster')"
   ]
  },
  {
   "cell_type": "code",
   "execution_count": null,
   "id": "a9371a18",
   "metadata": {},
   "outputs": [],
   "source": [
    "filenames = sorted(glob(os.path.join('/Users', 'mnotter', 'screentime_log', 'day_*.png')))\n",
    "N= 120\n",
    "f = filenames[N]"
   ]
  },
  {
   "cell_type": "code",
   "execution_count": null,
   "id": "2aec7306",
   "metadata": {},
   "outputs": [],
   "source": [
    "img = imageio.imread(f)\n",
    "img = img[:340, ...]"
   ]
  },
  {
   "cell_type": "code",
   "execution_count": null,
   "id": "b346d373",
   "metadata": {},
   "outputs": [],
   "source": [
    "plt.figure(figsize=(15, 4))\n",
    "plt.imshow(img)"
   ]
  },
  {
   "cell_type": "code",
   "execution_count": null,
   "id": "473618fe",
   "metadata": {},
   "outputs": [],
   "source": [
    "def find_markers(img):\n",
    "    return sorted(np.argsort(np.std(color.rgb2gray(img[..., :3]), axis=0)[:975])[::-1][:2])"
   ]
  },
  {
   "cell_type": "code",
   "execution_count": null,
   "id": "c898a7c8",
   "metadata": {},
   "outputs": [],
   "source": [
    "def find_entries(img):\n",
    "    return np.squeeze(np.argwhere(np.prod([img[..., 0]==31, img[..., 1]==119, img[..., 2]==180], axis=0).sum(axis=0) > 0))"
   ]
  },
  {
   "cell_type": "code",
   "execution_count": null,
   "id": "2bcd3876",
   "metadata": {},
   "outputs": [],
   "source": [
    "def get_time_points(img):\n",
    "    img = img[:300, ...]\n",
    "    marker = find_markers(img)\n",
    "    return np.unique(np.round((find_entries(img) - marker[0]) / np.diff(marker) * 8 * 60, 0).astype('int'))"
   ]
  },
  {
   "cell_type": "code",
   "execution_count": null,
   "id": "8146c9e6",
   "metadata": {},
   "outputs": [],
   "source": [
    "marker = find_markers(img)\n",
    "marker"
   ]
  },
  {
   "cell_type": "code",
   "execution_count": null,
   "id": "9d98fc3e",
   "metadata": {},
   "outputs": [],
   "source": [
    "time_points = [get_time_points(imageio.imread(f)) for f in tqdm(filenames)]"
   ]
  },
  {
   "cell_type": "code",
   "execution_count": null,
   "id": "ae15d935",
   "metadata": {},
   "outputs": [],
   "source": [
    "data = []\n",
    "for t in tqdm(time_points):\n",
    "    df = pd.DataFrame(t, columns=['pixel']).set_index('pixel')\n",
    "    df['active'] = 1\n",
    "    data.append(df)\n",
    "    \n",
    "# Create dataframe\n",
    "data = pd.concat(data, axis=1).fillna(0)\n",
    "\n",
    "# Drop days below 4h\n",
    "data = data.iloc[:, (data.sum()>(4.2*60)).values]\n",
    "\n",
    "# Drop false recordings (full day almost 100% active)\n",
    "data = data.iloc[:, (data.sum()<13*60).values]\n",
    "\n",
    "# Restrict time window\n",
    "data = data.loc[-120:1060]"
   ]
  },
  {
   "cell_type": "code",
   "execution_count": null,
   "id": "753b352b",
   "metadata": {},
   "outputs": [],
   "source": [
    "# Set time as index\n",
    "data['time'] = pd.to_datetime(data.index*100*10000000*60) + pd.Timedelta('09:00:00')\n",
    "data = data.set_index('time').resample('180S').mean()\n",
    "data['time'] = data.index.strftime('%H:%M')\n",
    "data.set_index('time', inplace=True)"
   ]
  },
  {
   "cell_type": "code",
   "execution_count": null,
   "id": "21cbd8f4",
   "metadata": {},
   "outputs": [],
   "source": [
    "sort_values = False\n",
    "if sort_values:\n",
    "    idx = np.argsort(np.argmax(data.values, axis=0))\n",
    "    data = data.iloc[:, idx]"
   ]
  },
  {
   "cell_type": "code",
   "execution_count": null,
   "id": "70ee7467",
   "metadata": {},
   "outputs": [],
   "source": [
    "day_mean = data.mean(axis=1) * 100"
   ]
  },
  {
   "cell_type": "code",
   "execution_count": null,
   "id": "d893a37a",
   "metadata": {},
   "outputs": [],
   "source": [
    "plt.figure(figsize=(15, 20))\n",
    "for i, n in enumerate(range(data.shape[1])):\n",
    "    plt.plot(data.values[:, n]*i, marker='.', lw=0, markersize=2)\n",
    "plt.ylim(0.5, n+0.5)\n",
    "xticklabels = day_mean.index.values[::60]\n",
    "xtickpos = np.argwhere([d in xticklabels for d in day_mean.index]).squeeze()\n",
    "plt.xticks(ticks=xtickpos, labels=xticklabels, rotation=90)\n",
    "plt.ylabel('Day')\n",
    "plt.xlabel('Time')\n",
    "plt.title('Detailed overview over the last %d workdays' % data.shape[1]);\n",
    "plt.show();"
   ]
  },
  {
   "cell_type": "code",
   "execution_count": null,
   "id": "0384a676",
   "metadata": {
    "scrolled": false
   },
   "outputs": [],
   "source": [
    "plt.figure(figsize=(16, 5))\n",
    "day_mean.plot()\n",
    "xticklabels = day_mean.index.values[::60]\n",
    "xtickpos = np.argwhere([d in xticklabels for d in day_mean.index]).squeeze()\n",
    "plt.xticks(ticks=xtickpos, labels=xticklabels, rotation=90)\n",
    "plt.ylim(0, 100);\n",
    "plt.ylabel('Presence [%]')\n",
    "plt.title('Average Workdays [N=%d]' % data.shape[1]);"
   ]
  }
 ],
 "metadata": {
  "kernelspec": {
   "display_name": "Python [conda env:adsml] *",
   "language": "python",
   "name": "conda-env-adsml-py"
  },
  "language_info": {
   "codemirror_mode": {
    "name": "ipython",
    "version": 3
   },
   "file_extension": ".py",
   "mimetype": "text/x-python",
   "name": "python",
   "nbconvert_exporter": "python",
   "pygments_lexer": "ipython3",
   "version": "3.9.7"
  }
 },
 "nbformat": 4,
 "nbformat_minor": 5
}
